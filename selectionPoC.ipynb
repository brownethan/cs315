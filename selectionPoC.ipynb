{
  "nbformat": 4,
  "nbformat_minor": 0,
  "metadata": {
    "colab": {
      "provenance": [],
      "include_colab_link": true
    },
    "kernelspec": {
      "name": "python3",
      "display_name": "Python 3"
    },
    "language_info": {
      "name": "python"
    }
  },
  "cells": [
    {
      "cell_type": "markdown",
      "metadata": {
        "id": "view-in-github",
        "colab_type": "text"
      },
      "source": [
        "<a href=\"https://colab.research.google.com/github/brownethan/cs315/blob/main/selectionPoC.ipynb\" target=\"_parent\"><img src=\"https://colab.research.google.com/assets/colab-badge.svg\" alt=\"Open In Colab\"/></a>"
      ]
    },
    {
      "cell_type": "code",
      "execution_count": 1,
      "metadata": {
        "id": "tZGwopH4Y7oL"
      },
      "outputs": [],
      "source": [
        "# Template for testing Selection Sort on small lists, outputing each intermediate step"
      ]
    },
    {
      "cell_type": "code",
      "source": [
        "import random"
      ],
      "metadata": {
        "id": "fSME9MywceAq"
      },
      "execution_count": 2,
      "outputs": []
    },
    {
      "cell_type": "code",
      "source": [
        "def selection(A,print_flag):\n",
        "    n=len(A)\n",
        "    for i in range(n - 1):\n",
        "        smallest = i\n",
        "        for j in range(i + 1, n):\n",
        "            if A[smallest] > A[j]:\n",
        "                smallest = j\n",
        "        A[i], A[smallest] = A[smallest], A[i] # Swap A[i] with A[smallest]\n",
        "        if print_flag:\n",
        "            print(f\"Step {i+1}: {A}\")\n",
        "\n",
        "# for your convenience, the psuedocode from class is provided, and note that you don't really need line 1, you can handle that in the outer for loop statement\n",
        "#n = length[A]\n",
        "#for i=1 to n-1:\n",
        "#   smallest = i\n",
        "#   for j=i+1 to n:\n",
        "#      if A[smallest] > A[j]\n",
        "#         then smallest = j\n",
        "#   Swap A[i] with A[smallest]"
      ],
      "metadata": {
        "id": "TJZL4jFQZhAp"
      },
      "execution_count": 8,
      "outputs": []
    },
    {
      "cell_type": "code",
      "source": [
        "N=12\n",
        "A = list(range(N))\n",
        "\n",
        "random.shuffle(A)\n",
        "\n",
        "print(A)\n",
        "selection(A,True)\n",
        "print(A)"
      ],
      "metadata": {
        "id": "f1GS3NjwZqmS",
        "colab": {
          "base_uri": "https://localhost:8080/"
        },
        "outputId": "0857f5d4-aec4-47a2-d6f0-73a9b853e8c7"
      },
      "execution_count": 11,
      "outputs": [
        {
          "output_type": "stream",
          "name": "stdout",
          "text": [
            "[1, 4, 3, 9, 7, 8, 2, 10, 5, 11, 6, 0]\n",
            "Step 1: [0, 4, 3, 9, 7, 8, 2, 10, 5, 11, 6, 1]\n",
            "Step 2: [0, 1, 3, 9, 7, 8, 2, 10, 5, 11, 6, 4]\n",
            "Step 3: [0, 1, 2, 9, 7, 8, 3, 10, 5, 11, 6, 4]\n",
            "Step 4: [0, 1, 2, 3, 7, 8, 9, 10, 5, 11, 6, 4]\n",
            "Step 5: [0, 1, 2, 3, 4, 8, 9, 10, 5, 11, 6, 7]\n",
            "Step 6: [0, 1, 2, 3, 4, 5, 9, 10, 8, 11, 6, 7]\n",
            "Step 7: [0, 1, 2, 3, 4, 5, 6, 10, 8, 11, 9, 7]\n",
            "Step 8: [0, 1, 2, 3, 4, 5, 6, 7, 8, 11, 9, 10]\n",
            "Step 9: [0, 1, 2, 3, 4, 5, 6, 7, 8, 11, 9, 10]\n",
            "Step 10: [0, 1, 2, 3, 4, 5, 6, 7, 8, 9, 11, 10]\n",
            "Step 11: [0, 1, 2, 3, 4, 5, 6, 7, 8, 9, 10, 11]\n",
            "[0, 1, 2, 3, 4, 5, 6, 7, 8, 9, 10, 11]\n"
          ]
        }
      ]
    }
  ]
}