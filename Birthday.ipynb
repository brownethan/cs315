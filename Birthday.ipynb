{
  "nbformat": 4,
  "nbformat_minor": 0,
  "metadata": {
    "colab": {
      "provenance": [],
      "authorship_tag": "ABX9TyN2VEsNNLhJVPOYofGFTHOn",
      "include_colab_link": true
    },
    "kernelspec": {
      "name": "python3",
      "display_name": "Python 3"
    },
    "language_info": {
      "name": "python"
    }
  },
  "cells": [
    {
      "cell_type": "markdown",
      "metadata": {
        "id": "view-in-github",
        "colab_type": "text"
      },
      "source": [
        "<a href=\"https://colab.research.google.com/github/brownethan/cs315/blob/main/Birthday.ipynb\" target=\"_parent\"><img src=\"https://colab.research.google.com/assets/colab-badge.svg\" alt=\"Open In Colab\"/></a>"
      ]
    },
    {
      "cell_type": "code",
      "execution_count": 1,
      "metadata": {
        "colab": {
          "base_uri": "https://localhost:8080/"
        },
        "id": "-soz9QnSa1rw",
        "outputId": "faf7f986-ae69-4eda-b029-f73388c4532f"
      },
      "outputs": [
        {
          "output_type": "stream",
          "name": "stdout",
          "text": [
            "2 0.9166666666666666\n",
            "3 0.9930555555555556\n",
            "4 0.9994212962962963\n",
            "5 0.999951774691358\n",
            "6 0.9999959812242798\n",
            "7 0.9999996651020233\n",
            "8 0.9999999720918353\n",
            "9 0.9999999976743196\n",
            "10 0.9999999998061933\n",
            "11 0.9999999999838495\n"
          ]
        }
      ],
      "source": [
        "def P(x,N):\n",
        "  prod=1\n",
        "  for i in range(x,x-N,-1):\n",
        "    prod *=i\n",
        "    return prod\n",
        "\n",
        "for N in range(2,12):\n",
        "  print(N, ((12**N)-P(12,N))/(12**N))"
      ]
    },
    {
      "cell_type": "code",
      "source": [
        "def P(x,N):\n",
        "  prod=1\n",
        "  for i in range(x,x-N,-1):\n",
        "    prod *=i\n",
        "  return prod\n",
        "\n",
        "for N in range(23,32):\n",
        "  print(N, ((365**N)-P(365,N))/(365**N))"
      ],
      "metadata": {
        "colab": {
          "base_uri": "https://localhost:8080/"
        },
        "id": "W4hy2WqFbIVU",
        "outputId": "8fc03a20-f39b-4543-ff2c-e7abb2b20f62"
      },
      "execution_count": 4,
      "outputs": [
        {
          "output_type": "stream",
          "name": "stdout",
          "text": [
            "23 0.5072972343239854\n",
            "24 0.5383442579145288\n",
            "25 0.5686997039694639\n",
            "26 0.5982408201359389\n",
            "27 0.626859282263242\n",
            "28 0.6544614723423994\n",
            "29 0.680968537477777\n",
            "30 0.7063162427192686\n",
            "31 0.7304546337286438\n"
          ]
        }
      ]
    }
  ]
}