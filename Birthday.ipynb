{
  "nbformat": 4,
  "nbformat_minor": 0,
  "metadata": {
    "colab": {
      "provenance": [],
      "authorship_tag": "ABX9TyPufmHcV0X5fajt2DFvzt4n",
      "include_colab_link": true
    },
    "kernelspec": {
      "name": "python3",
      "display_name": "Python 3"
    },
    "language_info": {
      "name": "python"
    }
  },
  "cells": [
    {
      "cell_type": "markdown",
      "metadata": {
        "id": "view-in-github",
        "colab_type": "text"
      },
      "source": [
        "<a href=\"https://colab.research.google.com/github/brownethan/cs315/blob/main/Birthday.ipynb\" target=\"_parent\"><img src=\"https://colab.research.google.com/assets/colab-badge.svg\" alt=\"Open In Colab\"/></a>"
      ]
    },
    {
      "cell_type": "code",
      "execution_count": 6,
      "metadata": {
        "colab": {
          "base_uri": "https://localhost:8080/"
        },
        "id": "AFGy66cQXfj4",
        "outputId": "949815e4-b184-42e6-ef37-ace4cb394632"
      },
      "outputs": [
        {
          "output_type": "stream",
          "name": "stdout",
          "text": [
            "2 0.08333333333333333\n",
            "3 0.2361111111111111\n",
            "4 0.4270833333333333\n",
            "5 0.6180555555555556\n",
            "6 0.7771990740740741\n",
            "7 0.8885995370370371\n",
            "8 0.9535831404320988\n",
            "9 0.9845277134773662\n",
            "10 0.9961319283693416\n",
            "11 0.9993553213948903\n"
          ]
        }
      ],
      "source": [
        "def calculate(x,N):\n",
        "  a = 1\n",
        "  for i in range(x, x-N,-1):\n",
        "    a*=i\n",
        "  return a\n",
        "\n",
        "for N in range (2,12):\n",
        "  print(N, ((12**N)-calculate(12,N))/(12**N) )"
      ]
    },
    {
      "cell_type": "code",
      "source": [],
      "metadata": {
        "id": "zzAlDEHdXuWX"
      },
      "execution_count": null,
      "outputs": []
    }
  ]
}