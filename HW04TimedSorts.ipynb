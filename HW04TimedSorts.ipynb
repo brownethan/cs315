{
  "nbformat": 4,
  "nbformat_minor": 0,
  "metadata": {
    "colab": {
      "provenance": [],
      "authorship_tag": "ABX9TyPFuLJXsaybTe8DbX8CW4IF",
      "include_colab_link": true
    },
    "kernelspec": {
      "name": "python3",
      "display_name": "Python 3"
    },
    "language_info": {
      "name": "python"
    }
  },
  "cells": [
    {
      "cell_type": "markdown",
      "metadata": {
        "id": "view-in-github",
        "colab_type": "text"
      },
      "source": [
        "<a href=\"https://colab.research.google.com/github/brownethan/cs315/blob/main/HW04TimedSorts.ipynb\" target=\"_parent\"><img src=\"https://colab.research.google.com/assets/colab-badge.svg\" alt=\"Open In Colab\"/></a>"
      ]
    },
    {
      "cell_type": "code",
      "execution_count": 16,
      "metadata": {
        "id": "_1MakABcUkKp"
      },
      "outputs": [],
      "source": [
        "import random\n",
        "import time"
      ]
    },
    {
      "cell_type": "code",
      "source": [
        "#Selection Sort with Array A\n",
        "def SelectionSort(A,print_flag):\n",
        "    n=len(A)\n",
        "    for i in range(n - 1):\n",
        "        smallest = i\n",
        "        for j in range(i + 1, n):\n",
        "            if A[smallest] > A[j]:\n",
        "                smallest = j\n",
        "        A[i], A[smallest] = A[smallest], A[i] # Swap A[i] with A[smallest]\n",
        "        if print_flag:\n",
        "            print(f\"Step {i+1}: {A}\")"
      ],
      "metadata": {
        "id": "-dqudYrRVF1I"
      },
      "execution_count": 17,
      "outputs": []
    },
    {
      "cell_type": "code",
      "source": [
        "N=10\n",
        "A = list(range(N))\n",
        "\n",
        "random.shuffle(A)\n",
        "\n",
        "print(A)\n",
        "start=time.time()\n",
        "SelectionSort(A,True)\n",
        "end=time.time()\n",
        "print(A)\n",
        "print(\"N= \",N,\"time= \",end-start)"
      ],
      "metadata": {
        "colab": {
          "base_uri": "https://localhost:8080/"
        },
        "id": "iptCS1juVOMv",
        "outputId": "d1d38dfb-8936-44b4-b3d0-8dfaa43bc472"
      },
      "execution_count": 18,
      "outputs": [
        {
          "output_type": "stream",
          "name": "stdout",
          "text": [
            "[0, 3, 9, 8, 1, 7, 6, 5, 2, 4]\n",
            "Step 1: [0, 3, 9, 8, 1, 7, 6, 5, 2, 4]\n",
            "Step 2: [0, 1, 9, 8, 3, 7, 6, 5, 2, 4]\n",
            "Step 3: [0, 1, 2, 8, 3, 7, 6, 5, 9, 4]\n",
            "Step 4: [0, 1, 2, 3, 8, 7, 6, 5, 9, 4]\n",
            "Step 5: [0, 1, 2, 3, 4, 7, 6, 5, 9, 8]\n",
            "Step 6: [0, 1, 2, 3, 4, 5, 6, 7, 9, 8]\n",
            "Step 7: [0, 1, 2, 3, 4, 5, 6, 7, 9, 8]\n",
            "Step 8: [0, 1, 2, 3, 4, 5, 6, 7, 9, 8]\n",
            "Step 9: [0, 1, 2, 3, 4, 5, 6, 7, 8, 9]\n",
            "[0, 1, 2, 3, 4, 5, 6, 7, 8, 9]\n",
            "N=  10 time=  0.0001392364501953125\n"
          ]
        }
      ]
    },
    {
      "cell_type": "code",
      "source": [
        "#Insertion Sort with Array B\n",
        "def InsertionSort(B, print_flag):\n",
        "    n=len(B)\n",
        "    for i in range(1, n):\n",
        "        key = B[i]\n",
        "        j = i - 1\n",
        "        while j >= 0 and B[j] > key:\n",
        "            B[j + 1] = B[j]\n",
        "            j = j - 1\n",
        "        B[j + 1] = key\n",
        "        if print_flag:\n",
        "            print(B)"
      ],
      "metadata": {
        "id": "8pZsvCUOVvRf"
      },
      "execution_count": 19,
      "outputs": []
    },
    {
      "cell_type": "code",
      "source": [
        "N=10\n",
        "B = list(range(N))\n",
        "\n",
        "random.shuffle(B)\n",
        "\n",
        "print(B)\n",
        "start=time.time()\n",
        "InsertionSort(B,True)\n",
        "end=time.time()\n",
        "print(B)\n",
        "print(\"N= \",N,\"time= \",end-start)"
      ],
      "metadata": {
        "colab": {
          "base_uri": "https://localhost:8080/"
        },
        "id": "F7fpG1rZV6Fd",
        "outputId": "5208c275-d7e7-4dc9-d792-e9b02014778f"
      },
      "execution_count": 20,
      "outputs": [
        {
          "output_type": "stream",
          "name": "stdout",
          "text": [
            "[0, 2, 7, 1, 5, 4, 6, 9, 3, 8]\n",
            "[0, 2, 7, 1, 5, 4, 6, 9, 3, 8]\n",
            "[0, 2, 7, 1, 5, 4, 6, 9, 3, 8]\n",
            "[0, 1, 2, 7, 5, 4, 6, 9, 3, 8]\n",
            "[0, 1, 2, 5, 7, 4, 6, 9, 3, 8]\n",
            "[0, 1, 2, 4, 5, 7, 6, 9, 3, 8]\n",
            "[0, 1, 2, 4, 5, 6, 7, 9, 3, 8]\n",
            "[0, 1, 2, 4, 5, 6, 7, 9, 3, 8]\n",
            "[0, 1, 2, 3, 4, 5, 6, 7, 9, 8]\n",
            "[0, 1, 2, 3, 4, 5, 6, 7, 8, 9]\n",
            "[0, 1, 2, 3, 4, 5, 6, 7, 8, 9]\n",
            "N=  10 time=  0.0001926422119140625\n"
          ]
        }
      ]
    },
    {
      "cell_type": "code",
      "source": [
        "#Creating merge for Mergesort\n",
        "def Merge(C,p,q,r):\n",
        "    nL = q-p+1\n",
        "    nR = r-q\n",
        "    Left = []\n",
        "    Right = []\n",
        "\n",
        "    for i in range(nL):\n",
        "        Left.append(C[p+i])\n",
        "    for j in range(nR):\n",
        "        Right.append(C[q+j+1])\n",
        "\n",
        "    i=0\n",
        "    j=0\n",
        "    k=p\n",
        "    while i<nL and j<nR:\n",
        "        if (Left[i]<=Right[j]):\n",
        "            C[k]=Left[i]\n",
        "            i+=1\n",
        "        else:\n",
        "            C[k]=Right[j]\n",
        "            j+=1\n",
        "        k+=1\n",
        "\n",
        "    while i< nL:\n",
        "        C[k]=Left[i]\n",
        "        i+=1\n",
        "        k+=1\n",
        "    while j< nR:\n",
        "        C[k]=Right[j]\n",
        "        j+=1\n",
        "        k+=1\n",
        "\n",
        "    return"
      ],
      "metadata": {
        "id": "et84cyowi50H"
      },
      "execution_count": 21,
      "outputs": []
    },
    {
      "cell_type": "code",
      "source": [
        "#MergeSort for Array C\n",
        "def Mergesort(C,p,r,print_flag):\n",
        "    if p >= r:\n",
        "        return\n",
        "    q = (p+r)//2\n",
        "\n",
        "    # Modify the following three calls:\n",
        "    Mergesort(C, p, q, print_flag)\n",
        "    Mergesort(C, q+1, r, print_flag)\n",
        "    Merge(C, p, q, r)\n",
        "\n",
        "    if print_flag:\n",
        "      print(C)\n",
        "    return"
      ],
      "metadata": {
        "id": "ykCctlw4i6Bk"
      },
      "execution_count": 22,
      "outputs": []
    },
    {
      "cell_type": "code",
      "source": [
        "N=10\n",
        "C = list(range(N))\n",
        "\n",
        "random.shuffle(C)\n",
        "\n",
        "print(C)\n",
        "start=time.time()\n",
        "Mergesort(C,0,N-1,True)\n",
        "end=time.time()\n",
        "print(C)\n",
        "print(\"N= \",N,\"time= \",end-start)"
      ],
      "metadata": {
        "colab": {
          "base_uri": "https://localhost:8080/"
        },
        "id": "n5TmEobelAjq",
        "outputId": "2ea2215e-bc1f-4eb6-df5c-c501f5286804"
      },
      "execution_count": 23,
      "outputs": [
        {
          "output_type": "stream",
          "name": "stdout",
          "text": [
            "[4, 8, 0, 2, 6, 3, 9, 5, 1, 7]\n",
            "[4, 8, 0, 2, 6, 3, 9, 5, 1, 7]\n",
            "[0, 4, 8, 2, 6, 3, 9, 5, 1, 7]\n",
            "[0, 4, 8, 2, 6, 3, 9, 5, 1, 7]\n",
            "[0, 2, 4, 6, 8, 3, 9, 5, 1, 7]\n",
            "[0, 2, 4, 6, 8, 3, 9, 5, 1, 7]\n",
            "[0, 2, 4, 6, 8, 3, 5, 9, 1, 7]\n",
            "[0, 2, 4, 6, 8, 3, 5, 9, 1, 7]\n",
            "[0, 2, 4, 6, 8, 1, 3, 5, 7, 9]\n",
            "[0, 1, 2, 3, 4, 5, 6, 7, 8, 9]\n",
            "[0, 1, 2, 3, 4, 5, 6, 7, 8, 9]\n",
            "N=  10 time=  0.00022077560424804688\n"
          ]
        }
      ]
    },
    {
      "cell_type": "code",
      "source": [
        "#Partition creation for Quicksort\n",
        "def Partition(D,p,r):\n",
        "    x = D[r]\n",
        "    i = p - 1\n",
        "    for j in range(p,r):\n",
        "        if ( D[j] <= x ):\n",
        "            i = i + 1\n",
        "            #swap D[i] <--> D[j]\n",
        "            temp=D[i]\n",
        "            D[i]=D[j]\n",
        "            D[j]=temp\n",
        "    #swap D[i+1] <--> D[r]\n",
        "    temp=D[i+1]\n",
        "    D[i+1]=D[r]\n",
        "    D[r]=temp\n",
        "\n",
        "    return i + 1"
      ],
      "metadata": {
        "id": "W8XODu8YnCo5"
      },
      "execution_count": 24,
      "outputs": []
    },
    {
      "cell_type": "code",
      "source": [
        "#Quicksort for Array D\n",
        "def Quicksort(D,p,r,print_flag):\n",
        "    if p < r:\n",
        "        q  = Partition(D , p , r)\n",
        "        if print_flag:\n",
        "            print(D)\n",
        "        Quicksort(D , p , q-1,print_flag)\n",
        "        Quicksort(D , q+1 , r,print_flag)"
      ],
      "metadata": {
        "id": "azEYEFQal1Ez"
      },
      "execution_count": 25,
      "outputs": []
    },
    {
      "cell_type": "code",
      "source": [
        "N=10\n",
        "D = list(range(N))\n",
        "\n",
        "random.shuffle(D)\n",
        "\n",
        "print(D)\n",
        "start=time.time()\n",
        "Quicksort(D,0,N-1,True)\n",
        "end=time.time()\n",
        "print(D)\n",
        "print(\"N= \",N,\"time= \",end-start)"
      ],
      "metadata": {
        "colab": {
          "base_uri": "https://localhost:8080/"
        },
        "id": "--NdhbHzl1yX",
        "outputId": "20b0a26c-7a3a-4293-c436-93a364d34a69"
      },
      "execution_count": 26,
      "outputs": [
        {
          "output_type": "stream",
          "name": "stdout",
          "text": [
            "[7, 9, 1, 5, 8, 2, 6, 3, 0, 4]\n",
            "[1, 2, 3, 0, 4, 9, 6, 7, 5, 8]\n",
            "[0, 2, 3, 1, 4, 9, 6, 7, 5, 8]\n",
            "[0, 1, 3, 2, 4, 9, 6, 7, 5, 8]\n",
            "[0, 1, 2, 3, 4, 9, 6, 7, 5, 8]\n",
            "[0, 1, 2, 3, 4, 6, 7, 5, 8, 9]\n",
            "[0, 1, 2, 3, 4, 5, 7, 6, 8, 9]\n",
            "[0, 1, 2, 3, 4, 5, 6, 7, 8, 9]\n",
            "[0, 1, 2, 3, 4, 5, 6, 7, 8, 9]\n",
            "N=  10 time=  0.0001666545867919922\n"
          ]
        }
      ]
    }
  ]
}