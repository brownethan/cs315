{
  "nbformat": 4,
  "nbformat_minor": 0,
  "metadata": {
    "colab": {
      "provenance": [],
      "authorship_tag": "ABX9TyNSS4Yt28TeIcYtxp+5wuVd",
      "include_colab_link": true
    },
    "kernelspec": {
      "name": "python3",
      "display_name": "Python 3"
    },
    "language_info": {
      "name": "python"
    }
  },
  "cells": [
    {
      "cell_type": "markdown",
      "metadata": {
        "id": "view-in-github",
        "colab_type": "text"
      },
      "source": [
        "<a href=\"https://colab.research.google.com/github/brownethan/cs315/blob/main/HW04TimedSorts.ipynb\" target=\"_parent\"><img src=\"https://colab.research.google.com/assets/colab-badge.svg\" alt=\"Open In Colab\"/></a>"
      ]
    },
    {
      "cell_type": "code",
      "execution_count": null,
      "metadata": {
        "id": "_1MakABcUkKp"
      },
      "outputs": [],
      "source": [
        "import random\n",
        "import time"
      ]
    },
    {
      "cell_type": "code",
      "source": [
        "#Selection Sort with Array A\n",
        "def SelectionSort(A,print_flag):\n",
        "    n=len(A)\n",
        "    for i in range(n - 1):\n",
        "        smallest = i\n",
        "        for j in range(i + 1, n):\n",
        "            if A[smallest] > A[j]:\n",
        "                smallest = j\n",
        "        A[i], A[smallest] = A[smallest], A[i] # Swap A[i] with A[smallest]\n",
        "        if print_flag:\n",
        "            print(f\"Step {i+1}: {A}\")"
      ],
      "metadata": {
        "id": "-dqudYrRVF1I"
      },
      "execution_count": null,
      "outputs": []
    },
    {
      "cell_type": "code",
      "source": [
        "N=10\n",
        "A = list(range(N))\n",
        "\n",
        "random.shuffle(A)\n",
        "\n",
        "print(A)\n",
        "selection(A,True)\n",
        "print(A)"
      ],
      "metadata": {
        "id": "iptCS1juVOMv"
      },
      "execution_count": null,
      "outputs": []
    },
    {
      "cell_type": "code",
      "source": [
        "#Insertion Sort with Array B\n",
        "def InsertionSort(B, print_flag):\n",
        "    n=len(B)\n",
        "    for i in range(1, n):\n",
        "        key = B[i]\n",
        "        j = i - 1\n",
        "        while j >= 0 and B[j] > key:\n",
        "            B[j + 1] = B[j]\n",
        "            j = j - 1\n",
        "        B[j + 1] = key\n",
        "        if print_flag:\n",
        "            print(B)"
      ],
      "metadata": {
        "id": "8pZsvCUOVvRf"
      },
      "execution_count": null,
      "outputs": []
    },
    {
      "cell_type": "code",
      "source": [
        "N=10\n",
        "B = list(range(N))\n",
        "\n",
        "random.shuffle(B)\n",
        "\n",
        "print(B)\n",
        "insertion(B,True)\n",
        "print(B)"
      ],
      "metadata": {
        "id": "F7fpG1rZV6Fd"
      },
      "execution_count": null,
      "outputs": []
    }
  ]
}