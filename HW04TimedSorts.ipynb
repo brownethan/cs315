{
  "nbformat": 4,
  "nbformat_minor": 0,
  "metadata": {
    "colab": {
      "provenance": [],
      "authorship_tag": "ABX9TyMnuv3UKINt9Wx5TlJo7I6+",
      "include_colab_link": true
    },
    "kernelspec": {
      "name": "python3",
      "display_name": "Python 3"
    },
    "language_info": {
      "name": "python"
    }
  },
  "cells": [
    {
      "cell_type": "markdown",
      "metadata": {
        "id": "view-in-github",
        "colab_type": "text"
      },
      "source": [
        "<a href=\"https://colab.research.google.com/github/brownethan/cs315/blob/main/HW04TimedSorts.ipynb\" target=\"_parent\"><img src=\"https://colab.research.google.com/assets/colab-badge.svg\" alt=\"Open In Colab\"/></a>"
      ]
    },
    {
      "cell_type": "code",
      "execution_count": 1,
      "metadata": {
        "id": "_1MakABcUkKp"
      },
      "outputs": [],
      "source": [
        "import random\n",
        "import time"
      ]
    },
    {
      "cell_type": "code",
      "source": [
        "#Selection Sort with Array A\n",
        "def SelectionSort(A,print_flag):\n",
        "    n=len(A)\n",
        "    for i in range(n - 1):\n",
        "        smallest = i\n",
        "        for j in range(i + 1, n):\n",
        "            if A[smallest] > A[j]:\n",
        "                smallest = j\n",
        "        A[i], A[smallest] = A[smallest], A[i] # Swap A[i] with A[smallest]\n",
        "        if print_flag:\n",
        "            print(f\"Step {i+1}: {A}\")"
      ],
      "metadata": {
        "id": "-dqudYrRVF1I"
      },
      "execution_count": 2,
      "outputs": []
    },
    {
      "cell_type": "code",
      "source": [
        "N=10\n",
        "A = list(range(N))\n",
        "\n",
        "random.shuffle(A)\n",
        "\n",
        "print(A)\n",
        "SelectionSort(A,True)\n",
        "print(A)"
      ],
      "metadata": {
        "colab": {
          "base_uri": "https://localhost:8080/"
        },
        "id": "iptCS1juVOMv",
        "outputId": "dcee11cb-2315-49cc-ba09-cdcb8bd71021"
      },
      "execution_count": 4,
      "outputs": [
        {
          "output_type": "stream",
          "name": "stdout",
          "text": [
            "[5, 0, 1, 3, 7, 2, 8, 6, 4, 9]\n",
            "Step 1: [0, 5, 1, 3, 7, 2, 8, 6, 4, 9]\n",
            "Step 2: [0, 1, 5, 3, 7, 2, 8, 6, 4, 9]\n",
            "Step 3: [0, 1, 2, 3, 7, 5, 8, 6, 4, 9]\n",
            "Step 4: [0, 1, 2, 3, 7, 5, 8, 6, 4, 9]\n",
            "Step 5: [0, 1, 2, 3, 4, 5, 8, 6, 7, 9]\n",
            "Step 6: [0, 1, 2, 3, 4, 5, 8, 6, 7, 9]\n",
            "Step 7: [0, 1, 2, 3, 4, 5, 6, 8, 7, 9]\n",
            "Step 8: [0, 1, 2, 3, 4, 5, 6, 7, 8, 9]\n",
            "Step 9: [0, 1, 2, 3, 4, 5, 6, 7, 8, 9]\n",
            "[0, 1, 2, 3, 4, 5, 6, 7, 8, 9]\n"
          ]
        }
      ]
    },
    {
      "cell_type": "code",
      "source": [
        "#Insertion Sort with Array B\n",
        "def InsertionSort(B, print_flag):\n",
        "    n=len(B)\n",
        "    for i in range(1, n):\n",
        "        key = B[i]\n",
        "        j = i - 1\n",
        "        while j >= 0 and B[j] > key:\n",
        "            B[j + 1] = B[j]\n",
        "            j = j - 1\n",
        "        B[j + 1] = key\n",
        "        if print_flag:\n",
        "            print(B)"
      ],
      "metadata": {
        "id": "8pZsvCUOVvRf"
      },
      "execution_count": 6,
      "outputs": []
    },
    {
      "cell_type": "code",
      "source": [
        "N=10\n",
        "B = list(range(N))\n",
        "\n",
        "random.shuffle(B)\n",
        "\n",
        "print(B)\n",
        "InsertionSort(B,True)\n",
        "print(B)"
      ],
      "metadata": {
        "colab": {
          "base_uri": "https://localhost:8080/"
        },
        "id": "F7fpG1rZV6Fd",
        "outputId": "87b6ce82-e99f-41fb-f511-f7b786c4517d"
      },
      "execution_count": 7,
      "outputs": [
        {
          "output_type": "stream",
          "name": "stdout",
          "text": [
            "[0, 9, 6, 1, 5, 4, 2, 8, 3, 7]\n",
            "[0, 9, 6, 1, 5, 4, 2, 8, 3, 7]\n",
            "[0, 6, 9, 1, 5, 4, 2, 8, 3, 7]\n",
            "[0, 1, 6, 9, 5, 4, 2, 8, 3, 7]\n",
            "[0, 1, 5, 6, 9, 4, 2, 8, 3, 7]\n",
            "[0, 1, 4, 5, 6, 9, 2, 8, 3, 7]\n",
            "[0, 1, 2, 4, 5, 6, 9, 8, 3, 7]\n",
            "[0, 1, 2, 4, 5, 6, 8, 9, 3, 7]\n",
            "[0, 1, 2, 3, 4, 5, 6, 8, 9, 7]\n",
            "[0, 1, 2, 3, 4, 5, 6, 7, 8, 9]\n",
            "[0, 1, 2, 3, 4, 5, 6, 7, 8, 9]\n"
          ]
        }
      ]
    },
    {
      "cell_type": "code",
      "source": [
        "#Creating merge for Mergesort\n",
        "def Merge(C,p,q,r):\n",
        "    nL = q-p+1\n",
        "    nR = r-q\n",
        "    Left = []\n",
        "    Right = []\n",
        "\n",
        "    for i in range(nL):\n",
        "        Left.append(C[p+i])\n",
        "    for j in range(nR):\n",
        "        Right.append(C[q+j+1])\n",
        "\n",
        "    i=0\n",
        "    j=0\n",
        "    k=p\n",
        "    while i<nL and j<nR:\n",
        "        if (Left[i]<=Right[j]):\n",
        "            C[k]=Left[i]\n",
        "            i+=1\n",
        "        else:\n",
        "            C[k]=Right[j]\n",
        "            j+=1\n",
        "        k+=1\n",
        "\n",
        "    while i< nL:\n",
        "        C[k]=Left[i]\n",
        "        i+=1\n",
        "        k+=1\n",
        "    while j< nR:\n",
        "        C[k]=Right[j]\n",
        "        j+=1\n",
        "        k+=1\n",
        "\n",
        "    return"
      ],
      "metadata": {
        "id": "et84cyowi50H"
      },
      "execution_count": 8,
      "outputs": []
    },
    {
      "cell_type": "code",
      "source": [
        "#MergeSort for Array C\n",
        "def Mergesort(C,p,r,print_flag):\n",
        "    if p >= r:\n",
        "        return\n",
        "    q = (p+r)//2\n",
        "\n",
        "    # Modify the following three calls:\n",
        "    Mergesort(C, p, q, print_flag)\n",
        "    Mergesort(C, q+1, r, print_flag)\n",
        "    Merge(C, p, q, r)\n",
        "\n",
        "    if print_flag:\n",
        "      print(C)\n",
        "    return"
      ],
      "metadata": {
        "id": "ykCctlw4i6Bk"
      },
      "execution_count": 9,
      "outputs": []
    },
    {
      "cell_type": "code",
      "source": [
        "N=10\n",
        "C = list(range(N))\n",
        "\n",
        "random.shuffle(C)\n",
        "\n",
        "print(C)\n",
        "Mergesort(C,0,N-1,True)\n",
        "print(C)"
      ],
      "metadata": {
        "id": "n5TmEobelAjq",
        "outputId": "48d1a29b-37c5-4558-c8de-7410b4d293bd",
        "colab": {
          "base_uri": "https://localhost:8080/"
        }
      },
      "execution_count": 10,
      "outputs": [
        {
          "output_type": "stream",
          "name": "stdout",
          "text": [
            "[2, 1, 6, 0, 9, 5, 7, 4, 3, 8]\n",
            "[1, 2, 6, 0, 9, 5, 7, 4, 3, 8]\n",
            "[1, 2, 6, 0, 9, 5, 7, 4, 3, 8]\n",
            "[1, 2, 6, 0, 9, 5, 7, 4, 3, 8]\n",
            "[0, 1, 2, 6, 9, 5, 7, 4, 3, 8]\n",
            "[0, 1, 2, 6, 9, 5, 7, 4, 3, 8]\n",
            "[0, 1, 2, 6, 9, 4, 5, 7, 3, 8]\n",
            "[0, 1, 2, 6, 9, 4, 5, 7, 3, 8]\n",
            "[0, 1, 2, 6, 9, 3, 4, 5, 7, 8]\n",
            "[0, 1, 2, 3, 4, 5, 6, 7, 8, 9]\n",
            "[0, 1, 2, 3, 4, 5, 6, 7, 8, 9]\n"
          ]
        }
      ]
    },
    {
      "cell_type": "code",
      "source": [
        "#Partition creation for Quicksort\n",
        "def Partition(D,p,r):\n",
        "    x = D[r]\n",
        "    i = p - 1\n",
        "    for j in range(p,r):\n",
        "        if ( D[j] <= x ):\n",
        "            i = i + 1\n",
        "            #swap D[i] <--> D[j]\n",
        "            temp=D[i]\n",
        "            D[i]=D[j]\n",
        "            D[j]=temp\n",
        "    #swap D[i+1] <--> D[r]\n",
        "    temp=D[i+1]\n",
        "    D[i+1]=D[r]\n",
        "    D[r]=temp\n",
        "\n",
        "    return i + 1"
      ],
      "metadata": {
        "id": "W8XODu8YnCo5"
      },
      "execution_count": 11,
      "outputs": []
    },
    {
      "cell_type": "code",
      "source": [
        "#Quicksort for Array D\n",
        "def Quicksort(D,p,r,print_flag):\n",
        "    if p < r:\n",
        "        q  = Partition(D , p , r)\n",
        "        if print_flag:\n",
        "            print(D)\n",
        "        Quicksort(D , p , q-1,print_flag)\n",
        "        Quicksort(D , q+1 , r,print_flag)"
      ],
      "metadata": {
        "id": "azEYEFQal1Ez"
      },
      "execution_count": 12,
      "outputs": []
    },
    {
      "cell_type": "code",
      "source": [
        "N=10\n",
        "D = list(range(N))\n",
        "\n",
        "random.shuffle(D)\n",
        "\n",
        "print(D)\n",
        "Quicksort(D,0,N-1,True)\n",
        "print(D)"
      ],
      "metadata": {
        "id": "--NdhbHzl1yX",
        "outputId": "e0e4b213-da0e-47d9-fc2d-c8c6b16b4a77",
        "colab": {
          "base_uri": "https://localhost:8080/"
        }
      },
      "execution_count": 13,
      "outputs": [
        {
          "output_type": "stream",
          "name": "stdout",
          "text": [
            "[8, 0, 3, 9, 6, 4, 5, 2, 7, 1]\n",
            "[0, 1, 3, 9, 6, 4, 5, 2, 7, 8]\n",
            "[0, 1, 3, 6, 4, 5, 2, 7, 8, 9]\n",
            "[0, 1, 3, 6, 4, 5, 2, 7, 8, 9]\n",
            "[0, 1, 2, 6, 4, 5, 3, 7, 8, 9]\n",
            "[0, 1, 2, 3, 4, 5, 6, 7, 8, 9]\n",
            "[0, 1, 2, 3, 4, 5, 6, 7, 8, 9]\n",
            "[0, 1, 2, 3, 4, 5, 6, 7, 8, 9]\n",
            "[0, 1, 2, 3, 4, 5, 6, 7, 8, 9]\n"
          ]
        }
      ]
    }
  ]
}